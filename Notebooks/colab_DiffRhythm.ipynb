{
  "nbformat": 4,
  "nbformat_minor": 0,
  "metadata": {
    "colab": {
      "provenance": [],
      "gpuType": "T4",
      "include_colab_link": true
    },
    "kernelspec": {
      "name": "python3",
      "display_name": "Python 3"
    },
    "language_info": {
      "name": "python"
    },
    "accelerator": "GPU"
  },
  "cells": [
    {
      "cell_type": "markdown",
      "metadata": {
        "id": "view-in-github",
        "colab_type": "text"
      },
      "source": [
        "<a href=\"https://colab.research.google.com/github/DrewThomasson/DiffRhythm/blob/google-colab/Notebooks/colab_DiffRhythm.ipynb\" target=\"_parent\"><img src=\"https://colab.research.google.com/assets/colab-badge.svg\" alt=\"Open In Colab\"/></a>"
      ]
    },
    {
      "cell_type": "markdown",
      "source": [
        "# 🎵 Welcome to the **DiffRhythm** Free Google Colab!  \n",
        "### **Blazingly Fast & Simple End-to-End Song Generation with Latent Diffusion**  \n",
        "\n",
        "## 🌟 Features  \n",
        "\n",
        "- 🎶 **Full-Length AI Music Generation** – Create complete songs from text prompts or reference audio.  \n",
        "- 📝 **Text-to-Music** – Describe a mood, scene, or style (e.g., \"jazzy nightclub\", \"cinematic orchestral\") and generate music instantly!  \n",
        "- 🎧 **Instrumental Mode** – Generate music without lyrics, supporting various instruments and genres.  \n",
        "- 🚀 **Runs on Google Colab for Free!** – No need for high-end GPUs, just a web browser.  \n",
        "\n",
        "## 💻 **Want to Run Locally?**  \n",
        "Check out the official **[DiffRhythm GitHub](https://github.com/ASLP-lab/DiffRhythm)** for installation guides, local deployment, and advanced customization!  \n",
        "\n",
        "🎵 **Break the rules. Make music that shouldn't exist.** 🎵  "
      ],
      "metadata": {
        "id": "DKNNnwD-HJwQ"
      }
    },
    {
      "cell_type": "code",
      "source": [
        "# @title Install and Launch DiffRhythm 🎵\n",
        "# Install the requirments\n",
        "!git clone https://huggingface.co/spaces/ASLP-lab/DiffRhythm\n",
        "!pip install -r DiffRhythm/requirements.txt\n",
        "!pip install spaces\n",
        "!apt-get install espeak-ng\n",
        "\n",
        "# Change add share=True in /DiffRhythm/app.py\n",
        "file_name = \"DiffRhythm/app.py\"\n",
        "\n",
        "with open(file_name, \"r\") as f:\n",
        "    content = f.read()\n",
        "\n",
        "content = content.replace(\"demo.launch()\", \"demo.launch(share=True)\")\n",
        "\n",
        "with open(file_name, \"w\") as f:\n",
        "    f.write(content)\n",
        "\n",
        "# Launch app.py\n",
        "%cd DiffRhythm\n",
        "!python app.py\n"
      ],
      "metadata": {
        "cellView": "form",
        "id": "ZZmWSmlS82py"
      },
      "execution_count": null,
      "outputs": []
    }
  ]
}